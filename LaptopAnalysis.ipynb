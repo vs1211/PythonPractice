{
 "cells": [
  {
   "cell_type": "code",
   "execution_count": 3,
   "id": "711024bb-68ef-4a38-9ccf-8b47df5e19d3",
   "metadata": {},
   "outputs": [
    {
     "data": {
      "text/html": [
       "<div>\n",
       "<style scoped>\n",
       "    .dataframe tbody tr th:only-of-type {\n",
       "        vertical-align: middle;\n",
       "    }\n",
       "\n",
       "    .dataframe tbody tr th {\n",
       "        vertical-align: top;\n",
       "    }\n",
       "\n",
       "    .dataframe thead th {\n",
       "        text-align: right;\n",
       "    }\n",
       "</style>\n",
       "<table border=\"1\" class=\"dataframe\">\n",
       "  <thead>\n",
       "    <tr style=\"text-align: right;\">\n",
       "      <th></th>\n",
       "      <th>brand</th>\n",
       "      <th>laptop_name</th>\n",
       "      <th>display_size</th>\n",
       "      <th>processor_type</th>\n",
       "      <th>graphics_card</th>\n",
       "      <th>disk_space</th>\n",
       "      <th>discount_price</th>\n",
       "      <th>old_price</th>\n",
       "      <th>ratings_5max</th>\n",
       "    </tr>\n",
       "  </thead>\n",
       "  <tbody>\n",
       "    <tr>\n",
       "      <th>0</th>\n",
       "      <td>HP</td>\n",
       "      <td>Notebook 14-df0008nx</td>\n",
       "      <td>14.0</td>\n",
       "      <td>Intel Celeron N4000</td>\n",
       "      <td>Intel HD Graphics 600</td>\n",
       "      <td>64 GB (eMMC)</td>\n",
       "      <td>1259.0</td>\n",
       "      <td>1259.0</td>\n",
       "      <td>0 / 5</td>\n",
       "    </tr>\n",
       "    <tr>\n",
       "      <th>1</th>\n",
       "      <td>Lenovo</td>\n",
       "      <td>IdeaPad 330S-14IKB</td>\n",
       "      <td>14.0</td>\n",
       "      <td>Intel Core i5-8250U</td>\n",
       "      <td>Intel UHD Graphics 620</td>\n",
       "      <td>1 TB HDD</td>\n",
       "      <td>1849.0</td>\n",
       "      <td>2099.0</td>\n",
       "      <td>3.3 / 5</td>\n",
       "    </tr>\n",
       "    <tr>\n",
       "      <th>2</th>\n",
       "      <td>Huawei</td>\n",
       "      <td>MateBook D Volta</td>\n",
       "      <td>14.0</td>\n",
       "      <td>Intel Core i5-8250U</td>\n",
       "      <td>NVIDIA GeForce MX150 (2 GB)</td>\n",
       "      <td>256 GB SSD</td>\n",
       "      <td>2999.0</td>\n",
       "      <td>3799.0</td>\n",
       "      <td>0 / 5</td>\n",
       "    </tr>\n",
       "    <tr>\n",
       "      <th>3</th>\n",
       "      <td>Dell</td>\n",
       "      <td>Inspiron 15 3567</td>\n",
       "      <td>15.6</td>\n",
       "      <td>Intel Core i3-7020U</td>\n",
       "      <td>Intel HD Graphics 620</td>\n",
       "      <td>1 TB HDD</td>\n",
       "      <td>1849.0</td>\n",
       "      <td>1849.0</td>\n",
       "      <td>0 / 5</td>\n",
       "    </tr>\n",
       "    <tr>\n",
       "      <th>4</th>\n",
       "      <td>Asus</td>\n",
       "      <td>VivoBook 15 X510UR</td>\n",
       "      <td>15.6</td>\n",
       "      <td>Intel Core i7-8550U</td>\n",
       "      <td>NVIDIA GeForce 930MX (2 GB)</td>\n",
       "      <td>1 TB HDD</td>\n",
       "      <td>2499.0</td>\n",
       "      <td>3149.0</td>\n",
       "      <td>0 / 5</td>\n",
       "    </tr>\n",
       "  </tbody>\n",
       "</table>\n",
       "</div>"
      ],
      "text/plain": [
       "    brand           laptop_name  display_size        processor_type  \\\n",
       "0      HP  Notebook 14-df0008nx          14.0   Intel Celeron N4000   \n",
       "1  Lenovo    IdeaPad 330S-14IKB          14.0   Intel Core i5-8250U   \n",
       "2  Huawei      MateBook D Volta          14.0   Intel Core i5-8250U   \n",
       "3    Dell      Inspiron 15 3567          15.6   Intel Core i3-7020U   \n",
       "4    Asus    VivoBook 15 X510UR          15.6   Intel Core i7-8550U   \n",
       "\n",
       "                  graphics_card     disk_space  discount_price  old_price  \\\n",
       "0         Intel HD Graphics 600   64 GB (eMMC)          1259.0     1259.0   \n",
       "1        Intel UHD Graphics 620       1 TB HDD          1849.0     2099.0   \n",
       "2   NVIDIA GeForce MX150 (2 GB)     256 GB SSD          2999.0     3799.0   \n",
       "3         Intel HD Graphics 620       1 TB HDD          1849.0     1849.0   \n",
       "4   NVIDIA GeForce 930MX (2 GB)       1 TB HDD          2499.0     3149.0   \n",
       "\n",
       "  ratings_5max  \n",
       "0        0 / 5  \n",
       "1      3.3 / 5  \n",
       "2        0 / 5  \n",
       "3        0 / 5  \n",
       "4        0 / 5  "
      ]
     },
     "execution_count": 3,
     "metadata": {},
     "output_type": "execute_result"
    }
   ],
   "source": [
    "# Loading the data\n",
    "import pandas as pd\n",
    "df=pd.read_csv('laptops.csv')\n",
    "df.head()"
   ]
  },
  {
   "cell_type": "code",
   "execution_count": 17,
   "id": "759586d3-2615-47c5-b496-6ffcaca8f42d",
   "metadata": {},
   "outputs": [
    {
     "name": "stdout",
     "output_type": "stream",
     "text": [
      "Number of rows in the dataset: 205\n",
      "Number of Columns in the dataset: 9\n"
     ]
    }
   ],
   "source": [
    "#pandas command to check dataset dimensions\n",
    "num_rows = df.shape[0]\n",
    "print(f\"Number of rows in the dataset: {num_rows}\")\n",
    "num_col = df.shape[1]\n",
    "print(f\"Number of Columns in the dataset: {num_col}\")"
   ]
  },
  {
   "cell_type": "code",
   "execution_count": 19,
   "id": "44e43ab2-96a4-41bd-9bac-4babcc2481bb",
   "metadata": {},
   "outputs": [
    {
     "data": {
      "text/plain": [
       "brand             0\n",
       "laptop_name       1\n",
       "display_size      0\n",
       "processor_type    0\n",
       "graphics_card     0\n",
       "disk_space        0\n",
       "discount_price    0\n",
       "old_price         0\n",
       "ratings_5max      0\n",
       "dtype: int64"
      ]
     },
     "execution_count": 19,
     "metadata": {},
     "output_type": "execute_result"
    }
   ],
   "source": [
    "# Cleaning the data\n",
    "# Count the number of missing values in each column\n",
    "missing_values = df.isnull().sum()\n",
    "missing_values"
   ]
  },
  {
   "cell_type": "code",
   "execution_count": 25,
   "id": "ca678bb9-20b7-4b63-b67a-5a1c8c5b5cd9",
   "metadata": {},
   "outputs": [
    {
     "name": "stdout",
     "output_type": "stream",
     "text": [
      "Updated Number of rows in the dataset: 204\n"
     ]
    }
   ],
   "source": [
    "# Cleaning the data\n",
    "# Drop rows with missing values\n",
    "laptops_data_cleaned = df.dropna()\n",
    "updated_num_rows = laptops_data_cleaned.shape[0]\n",
    "print(f\"Updated Number of rows in the dataset: {updated_num_rows}\")"
   ]
  },
  {
   "cell_type": "code",
   "execution_count": 27,
   "id": "f3427329-1b0e-4994-95b9-1fc05f123520",
   "metadata": {},
   "outputs": [
    {
     "data": {
      "text/plain": [
       "11"
      ]
     },
     "execution_count": 27,
     "metadata": {},
     "output_type": "execute_result"
    }
   ],
   "source": [
    "# Cleaning the data\n",
    "# Check for duplicates\n",
    "duplicates = df.duplicated().sum()\n",
    "duplicates"
   ]
  },
  {
   "cell_type": "code",
   "execution_count": 29,
   "id": "645bad5f-e88d-40c6-8fb1-582c0c3604fe",
   "metadata": {},
   "outputs": [
    {
     "name": "stdout",
     "output_type": "stream",
     "text": [
      "Updated Number of rows in the dataset: 194\n"
     ]
    }
   ],
   "source": [
    "# Drop duplicates\n",
    "laptops_data_no_duplicates = df.drop_duplicates()\n",
    "updated_num_rows_dup = laptops_data_no_duplicates.shape[0]\n",
    "print(f\"Updated Number of rows in the dataset: {updated_num_rows_dup}\")"
   ]
  },
  {
   "cell_type": "code",
   "execution_count": 31,
   "id": "4548acb6-bf79-4532-9146-f81466374d0c",
   "metadata": {},
   "outputs": [
    {
     "data": {
      "text/plain": [
       "brand              object\n",
       "laptop_name        object\n",
       "display_size      float64\n",
       "processor_type     object\n",
       "graphics_card      object\n",
       "disk_space         object\n",
       "discount_price    float64\n",
       "old_price         float64\n",
       "ratings_5max       object\n",
       "dtype: object"
      ]
     },
     "execution_count": 31,
     "metadata": {},
     "output_type": "execute_result"
    }
   ],
   "source": [
    "# cleaning the data\n",
    "# getting data types of teh columns\n",
    "df.dtypes"
   ]
  },
  {
   "cell_type": "code",
   "execution_count": 33,
   "id": "343fb3b4-3387-4412-ba53-43deaa37223d",
   "metadata": {},
   "outputs": [
    {
     "data": {
      "text/html": [
       "<div>\n",
       "<style scoped>\n",
       "    .dataframe tbody tr th:only-of-type {\n",
       "        vertical-align: middle;\n",
       "    }\n",
       "\n",
       "    .dataframe tbody tr th {\n",
       "        vertical-align: top;\n",
       "    }\n",
       "\n",
       "    .dataframe thead th {\n",
       "        text-align: right;\n",
       "    }\n",
       "</style>\n",
       "<table border=\"1\" class=\"dataframe\">\n",
       "  <thead>\n",
       "    <tr style=\"text-align: right;\">\n",
       "      <th></th>\n",
       "      <th>brand</th>\n",
       "      <th>laptop_name</th>\n",
       "      <th>display_size</th>\n",
       "      <th>processor_type</th>\n",
       "      <th>graphics_card</th>\n",
       "      <th>disk_space</th>\n",
       "      <th>discount_price</th>\n",
       "      <th>old_price</th>\n",
       "      <th>ratings_5max</th>\n",
       "      <th>new_price</th>\n",
       "    </tr>\n",
       "  </thead>\n",
       "  <tbody>\n",
       "    <tr>\n",
       "      <th>0</th>\n",
       "      <td>HP</td>\n",
       "      <td>Notebook 14-df0008nx</td>\n",
       "      <td>14.0</td>\n",
       "      <td>Intel Celeron N4000</td>\n",
       "      <td>Intel HD Graphics 600</td>\n",
       "      <td>64 GB (eMMC)</td>\n",
       "      <td>1259.0</td>\n",
       "      <td>1259.0</td>\n",
       "      <td>0 / 5</td>\n",
       "      <td>0.0</td>\n",
       "    </tr>\n",
       "    <tr>\n",
       "      <th>1</th>\n",
       "      <td>Lenovo</td>\n",
       "      <td>IdeaPad 330S-14IKB</td>\n",
       "      <td>14.0</td>\n",
       "      <td>Intel Core i5-8250U</td>\n",
       "      <td>Intel UHD Graphics 620</td>\n",
       "      <td>1 TB HDD</td>\n",
       "      <td>1849.0</td>\n",
       "      <td>2099.0</td>\n",
       "      <td>3.3 / 5</td>\n",
       "      <td>250.0</td>\n",
       "    </tr>\n",
       "    <tr>\n",
       "      <th>2</th>\n",
       "      <td>Huawei</td>\n",
       "      <td>MateBook D Volta</td>\n",
       "      <td>14.0</td>\n",
       "      <td>Intel Core i5-8250U</td>\n",
       "      <td>NVIDIA GeForce MX150 (2 GB)</td>\n",
       "      <td>256 GB SSD</td>\n",
       "      <td>2999.0</td>\n",
       "      <td>3799.0</td>\n",
       "      <td>0 / 5</td>\n",
       "      <td>800.0</td>\n",
       "    </tr>\n",
       "    <tr>\n",
       "      <th>3</th>\n",
       "      <td>Dell</td>\n",
       "      <td>Inspiron 15 3567</td>\n",
       "      <td>15.6</td>\n",
       "      <td>Intel Core i3-7020U</td>\n",
       "      <td>Intel HD Graphics 620</td>\n",
       "      <td>1 TB HDD</td>\n",
       "      <td>1849.0</td>\n",
       "      <td>1849.0</td>\n",
       "      <td>0 / 5</td>\n",
       "      <td>0.0</td>\n",
       "    </tr>\n",
       "    <tr>\n",
       "      <th>4</th>\n",
       "      <td>Asus</td>\n",
       "      <td>VivoBook 15 X510UR</td>\n",
       "      <td>15.6</td>\n",
       "      <td>Intel Core i7-8550U</td>\n",
       "      <td>NVIDIA GeForce 930MX (2 GB)</td>\n",
       "      <td>1 TB HDD</td>\n",
       "      <td>2499.0</td>\n",
       "      <td>3149.0</td>\n",
       "      <td>0 / 5</td>\n",
       "      <td>650.0</td>\n",
       "    </tr>\n",
       "  </tbody>\n",
       "</table>\n",
       "</div>"
      ],
      "text/plain": [
       "    brand           laptop_name  display_size        processor_type  \\\n",
       "0      HP  Notebook 14-df0008nx          14.0   Intel Celeron N4000   \n",
       "1  Lenovo    IdeaPad 330S-14IKB          14.0   Intel Core i5-8250U   \n",
       "2  Huawei      MateBook D Volta          14.0   Intel Core i5-8250U   \n",
       "3    Dell      Inspiron 15 3567          15.6   Intel Core i3-7020U   \n",
       "4    Asus    VivoBook 15 X510UR          15.6   Intel Core i7-8550U   \n",
       "\n",
       "                  graphics_card     disk_space  discount_price  old_price  \\\n",
       "0         Intel HD Graphics 600   64 GB (eMMC)          1259.0     1259.0   \n",
       "1        Intel UHD Graphics 620       1 TB HDD          1849.0     2099.0   \n",
       "2   NVIDIA GeForce MX150 (2 GB)     256 GB SSD          2999.0     3799.0   \n",
       "3         Intel HD Graphics 620       1 TB HDD          1849.0     1849.0   \n",
       "4   NVIDIA GeForce 930MX (2 GB)       1 TB HDD          2499.0     3149.0   \n",
       "\n",
       "  ratings_5max  new_price  \n",
       "0        0 / 5        0.0  \n",
       "1      3.3 / 5      250.0  \n",
       "2        0 / 5      800.0  \n",
       "3        0 / 5        0.0  \n",
       "4        0 / 5      650.0  "
      ]
     },
     "execution_count": 33,
     "metadata": {},
     "output_type": "execute_result"
    }
   ],
   "source": [
    "# cleaning the data\n",
    "# creating a column price using old price and discount\n",
    "df['new_price'] = df['old_price']  - df['discount_price']\n",
    "df.head(5)"
   ]
  },
  {
   "cell_type": "code",
   "execution_count": 41,
   "id": "01d72aef-a5f3-4d73-901f-70ae12e31079",
   "metadata": {},
   "outputs": [
    {
     "name": "stdout",
     "output_type": "stream",
     "text": [
      "   disk_space  ratings_5max\n",
      "0        64.0           0.0\n",
      "1      1024.0           3.3\n",
      "2       256.0           0.0\n",
      "3      1024.0           0.0\n",
      "4      1024.0           0.0\n",
      "brand              object\n",
      "laptop_name        object\n",
      "display_size      float64\n",
      "processor_type     object\n",
      "graphics_card      object\n",
      "disk_space        float64\n",
      "discount_price    float64\n",
      "old_price         float64\n",
      "ratings_5max      float64\n",
      "new_price         float64\n",
      "dtype: object\n",
      "brand              object\n",
      "laptop_name        object\n",
      "display_size      float64\n",
      "processor_type     object\n",
      "graphics_card      object\n",
      "disk_space        float64\n",
      "discount_price    float64\n",
      "old_price         float64\n",
      "ratings_5max      float64\n",
      "new_price         float64\n",
      "dtype: object\n",
      "    brand           laptop_name  display_size        processor_type  \\\n",
      "0      HP  Notebook 14-df0008nx          14.0   Intel Celeron N4000   \n",
      "1  Lenovo    IdeaPad 330S-14IKB          14.0   Intel Core i5-8250U   \n",
      "2  Huawei      MateBook D Volta          14.0   Intel Core i5-8250U   \n",
      "3    Dell      Inspiron 15 3567          15.6   Intel Core i3-7020U   \n",
      "4    Asus    VivoBook 15 X510UR          15.6   Intel Core i7-8550U   \n",
      "\n",
      "                  graphics_card  disk_space  discount_price  old_price  \\\n",
      "0         Intel HD Graphics 600        64.0          1259.0     1259.0   \n",
      "1        Intel UHD Graphics 620      1024.0          1849.0     2099.0   \n",
      "2   NVIDIA GeForce MX150 (2 GB)       256.0          2999.0     3799.0   \n",
      "3         Intel HD Graphics 620      1024.0          1849.0     1849.0   \n",
      "4   NVIDIA GeForce 930MX (2 GB)      1024.0          2499.0     3149.0   \n",
      "\n",
      "   ratings_5max  new_price  \n",
      "0           0.0        0.0  \n",
      "1           3.3      250.0  \n",
      "2           0.0      800.0  \n",
      "3           0.0        0.0  \n",
      "4           0.0      650.0  \n"
     ]
    }
   ],
   "source": [
    "# Cleaning the data \n",
    "# 1. Extract numeric part of disk space and handle both GB and TB\n",
    "def convert_disk_space(value):\n",
    "    if isinstance(value, float):  # Check if the value is already a float\n",
    "        return value\n",
    "    value = value.replace(',', '')  # Remove commas if present\n",
    "    number = float(value.split()[0])  # Extract the numeric part\n",
    "    unit = value.split()[1].upper()  # Extract the unit (GB or TB)\n",
    "\n",
    "    # Convert to GB if the unit is TB\n",
    "    if 'TB' in unit:\n",
    "        return number * 1024  # 1 TB = 1024 GB\n",
    "    elif 'GB' in unit:\n",
    "        return number\n",
    "    else:\n",
    "        return None  # Return None for any unexpected formats\n",
    "\n",
    "# Apply the function to the disk column\n",
    "df['disk_space'] = df['disk_space'].apply(convert_disk_space)\n",
    "\n",
    "# 2. Extract numeric part from the Ratings column\n",
    "# Assuming Ratings column has values like \"3 / 5\"\n",
    "df['ratings_5max'] = df['ratings_5max'].str.split('/').str[0].astype(float)\n",
    "\n",
    "# Check the data types and verify the columns are converted correctly\n",
    "print(df[['disk_space', 'ratings_5max']].head())\n",
    "print(df.dtypes)\n",
    "# Display the updated data types and the first few rows to verify the changes\n",
    "print(df.dtypes)\n",
    "print(df.head())"
   ]
  },
  {
   "cell_type": "code",
   "execution_count": 43,
   "id": "9d7648a9-7116-4da3-ac95-c5c24a559c45",
   "metadata": {},
   "outputs": [
    {
     "data": {
      "text/plain": [
       "9"
      ]
     },
     "execution_count": 43,
     "metadata": {},
     "output_type": "execute_result"
    }
   ],
   "source": [
    "# 2. How many different laptop brands are there?\n",
    "count_of_brands = df['brand'].nunique()\n",
    "count_of_brands"
   ]
  },
  {
   "cell_type": "code",
   "execution_count": 45,
   "id": "0f07a9ec-af81-410c-b65a-76fdb106d9c3",
   "metadata": {},
   "outputs": [
    {
     "name": "stdout",
     "output_type": "stream",
     "text": [
      "Most Expensive Laptop: Acer 1500.0\n",
      "Least Expensive Laptop: Notebook 14-df0008nx 0.0\n"
     ]
    }
   ],
   "source": [
    "# 3. What are the names and prices of the most and least expensive laptops after discounts\n",
    "most_expensive = df.loc[df['new_price'].idxmax()]\n",
    "least_expensive = df.loc[df['new_price'].idxmin()]\n",
    "\n",
    "print(\"Most Expensive Laptop:\", most_expensive['brand'], most_expensive['new_price'])\n",
    "print(\"Least Expensive Laptop:\", least_expensive['laptop_name'], least_expensive['new_price'])"
   ]
  },
  {
   "cell_type": "code",
   "execution_count": 87,
   "id": "d0901da9-8f44-42f3-a143-47b88c3add16",
   "metadata": {},
   "outputs": [
    {
     "data": {
      "text/plain": [
       "count      205.00\n",
       "mean      4040.36\n",
       "std       2327.15\n",
       "min        999.00\n",
       "25%       2249.00\n",
       "50%       3299.00\n",
       "75%       5649.00\n",
       "max      12499.00\n",
       "Name: old_price, dtype: float64"
      ]
     },
     "execution_count": 87,
     "metadata": {},
     "output_type": "execute_result"
    }
   ],
   "source": [
    "# 4.  How are laptop prices distributed?\n",
    "price_distribution = df['old_price'].describe().round(2)\n",
    "price_distribution"
   ]
  },
  {
   "cell_type": "code",
   "execution_count": 89,
   "id": "36e00883-5130-4b17-899f-f905e06f7e35",
   "metadata": {},
   "outputs": [
    {
     "data": {
      "text/plain": [
       "min     12.00\n",
       "max     18.40\n",
       "mean    14.58\n",
       "Name: display_size, dtype: float64"
      ]
     },
     "execution_count": 89,
     "metadata": {},
     "output_type": "execute_result"
    }
   ],
   "source": [
    "# 5. What is the min, max, and mean display sizes?\n",
    "display_size_stats = df['display_size'].agg(['min', 'max', 'mean']).round(2)\n",
    "display_size_stats"
   ]
  },
  {
   "cell_type": "code",
   "execution_count": 91,
   "id": "5eccfe05-90d1-4734-91f9-e671824119ae",
   "metadata": {},
   "outputs": [
    {
     "data": {
      "text/plain": [
       "brand\n",
       "MSI          9071.00\n",
       "Apple        7082.29\n",
       "Microsoft    5132.33\n",
       "Huawei       4040.67\n",
       "Dell         3872.03\n",
       "Asus         3393.09\n",
       "HP           3382.54\n",
       "Acer         2773.08\n",
       "Lenovo       2216.39\n",
       "Name: old_price, dtype: float64"
      ]
     },
     "execution_count": 91,
     "metadata": {},
     "output_type": "execute_result"
    }
   ],
   "source": [
    "# 6. What is the average price for each brand?\n",
    "avg_price_per_brand = df.groupby('brand')['old_price'].mean().round(2).sort_values(ascending=False)\n",
    "avg_price_per_brand"
   ]
  },
  {
   "cell_type": "code",
   "execution_count": 93,
   "id": "f13da191-bbec-4389-91dd-40979526ed42",
   "metadata": {},
   "outputs": [
    {
     "data": {
      "text/plain": [
       "processor_type\n",
       "Intel Core i9              12499.00\n",
       "Intel Core i7 6 Core       10999.00\n",
       "Intel Core i7-7820HK        7879.50\n",
       "Intel Core i7-8750H         7749.00\n",
       "Intel Core i7 Quad Core     7564.00\n",
       "Intel Core i7-6700HQ        7507.00\n",
       "Intel Core i7-7700HQ        7336.00\n",
       "Intel Core i5 Quad Core     7157.75\n",
       "Intel Core i5 Dual Core     5807.42\n",
       "Intel Core M3               5669.00\n",
       "Intel Core i7-8565U         4465.67\n",
       "Intel Core i7-8550U         4229.00\n",
       "Intel Core i7-7500U         4189.00\n",
       "Intel Core i5-7200U         3279.00\n",
       "Intel Core i5-8250U         3083.21\n",
       "Intel Core i5-8265U         2822.53\n",
       "AMD A9-9425                 1999.00\n",
       "Intel Core i3-8130U         1889.00\n",
       "Intel Core i3-8145U         1789.00\n",
       "Intel Core i3-7020U         1756.50\n",
       "Intel Core i3-6006U         1717.33\n",
       "Intel Celeron N4000         1300.82\n",
       "Intel Celeron 4205U         1299.00\n",
       "Intel Celeron N3060         1209.00\n",
       "Intel Core i3-5005U         1199.00\n",
       "Intel Celeron N3350          999.00\n",
       "Name: old_price, dtype: float64"
      ]
     },
     "execution_count": 93,
     "metadata": {},
     "output_type": "execute_result"
    }
   ],
   "source": [
    "#7. What is the average laptop price for each processor brand?\n",
    "avg_price_per_processor = df.groupby('processor_type')['old_price'].mean().round(2).sort_values(ascending=False)\n",
    "avg_price_per_processor"
   ]
  },
  {
   "cell_type": "code",
   "execution_count": 95,
   "id": "d65abf2a-8477-4e6b-8915-316c395df36d",
   "metadata": {},
   "outputs": [
    {
     "data": {
      "text/plain": [
       "brand\n",
       "Huawei       2.43\n",
       "Apple        2.28\n",
       "Lenovo       2.17\n",
       "Microsoft    1.37\n",
       "Dell         1.17\n",
       "HP           1.06\n",
       "Acer         0.95\n",
       "Asus         0.59\n",
       "MSI          0.00\n",
       "Name: ratings_5max, dtype: float64"
      ]
     },
     "execution_count": 95,
     "metadata": {},
     "output_type": "execute_result"
    }
   ],
   "source": [
    "#8. What are the average ratings for each laptop brand?\n",
    "avg_ratings_per_brand = df.groupby('brand')['ratings_5max'].mean().round(2).sort_values(ascending=False)\n",
    "avg_ratings_per_brand"
   ]
  },
  {
   "cell_type": "code",
   "execution_count": 75,
   "id": "11cd7d77-0ec3-4d04-abbc-2b07168e36bb",
   "metadata": {},
   "outputs": [
    {
     "data": {
      "text/plain": [
       "graphics_card\n",
       "Intel HD Graphics 6000                1100.00\n",
       "Intel HD Graphics 615                  700.00\n",
       "NVIDIA GeForce 930MX (2 GB)            650.00\n",
       "NVIDIA GeForce MX250 (4 GB)            516.67\n",
       "NVIDIA GeForce MX150 (4 GB)            500.00\n",
       "NVIDIA GeForce MX110 (2 GB)            441.67\n",
       "Intel Iris Plus Graphics 655           425.00\n",
       "Radeon Pro 560X GDDR5 (4 GB)           400.00\n",
       "NVIDIA GeForce MX150 (2 GB)            384.00\n",
       "NVIDIA GeForce MX230 (2 GB)            375.00\n",
       "Radeon Pro 555X GDDR5 (4 GB)           366.67\n",
       "AMD Radeon 535 (2 GB)                  350.00\n",
       "Intel UHD Graphics 617                 312.50\n",
       "NVIDIA GeForce MX130 (2 GB)            306.15\n",
       "NVIDIA GeForce MX130 (4 GB)            300.00\n",
       "AMD Radeon 530M (4 GB)                 250.00\n",
       "Intel UHD Graphics 620                 227.50\n",
       "Intel GMA HD                           204.67\n",
       "AMD Radeon 540 (4 GB)                  200.00\n",
       "NVIDIA GeForce GTX 1050 Ti (4 GB)      200.00\n",
       "AMD Radeon 520 (2 GB)                  166.67\n",
       "Intel UHD Graphics 600                 130.00\n",
       "Intel Graphics 620                     130.00\n",
       "Intel HD Graphics 620                  120.00\n",
       "Intel Iris Plus Graphics 640           100.00\n",
       "AMD Radeon 530 (4 GB)                   77.50\n",
       "AMD Radeon 530 (2 GB)                   35.71\n",
       "Intel HD Graphics 600                   14.00\n",
       "Intel Iris Graphics 550                  0.00\n",
       "AMD Radeon R7-M445 (4 GB)                0.00\n",
       "Intel HD Graphics 400                    0.00\n",
       "AMD Radeon R9-M370X (2 GB)               0.00\n",
       "NVIDIA GeForce MX250 (2 GB)              0.00\n",
       "AMD Radeon R5-M430 (2 GB)                0.00\n",
       "AMD Radeon R5-M340 (2 GB)                0.00\n",
       "NVIDIA GeForce GTX 1080 (8 GB) SLI       0.00\n",
       "AMD Radeon R5                            0.00\n",
       "Radeon Pro 555 GDDR5 (2 GB)              0.00\n",
       "NVIDIA GeForce GTX 980M (8 GB)           0.00\n",
       "Intel HD Graphics 500                    0.00\n",
       "NVIDIA GeForce GTX 1080 (8 GB)           0.00\n",
       "NVIDIA GeForce GTX 1070 (8 GB)           0.00\n",
       "NVIDIA GeForce GTX 1050 (4 GB)           0.00\n",
       "NVIDIA GeForce GTX 1050 (3 GB)           0.00\n",
       "NVIDIA GeForce GT 940MX (2 GB)           0.00\n",
       "NVIDIA GeForce 940MX (4 GB)              0.00\n",
       "NVIDIA GeForce 940MX (2 GB)              0.00\n",
       "Intel HD Graphics 505                    0.00\n",
       "Intel HD Graphics 520                    0.00\n",
       "Intel Iris Plus Graphics 650             0.00\n",
       "Intel Iris Plus Graphics 645             0.00\n",
       "Intel Iris Pro Graphics                  0.00\n",
       "Name: new_price, dtype: float64"
      ]
     },
     "execution_count": 75,
     "metadata": {},
     "output_type": "execute_result"
    }
   ],
   "source": [
    "#9. What is the average laptop price for each graphics card brand?\n",
    "avg_price_per_graphics = df.groupby('graphics_card')['old_price'].mean().round(2).sort_values(ascending=False)\n",
    "avg_price_per_graphics"
   ]
  },
  {
   "cell_type": "code",
   "execution_count": 77,
   "id": "f6bfd911-1890-46ca-b9a7-f06779ff6a3f",
   "metadata": {},
   "outputs": [
    {
     "data": {
      "text/plain": [
       "205"
      ]
     },
     "execution_count": 77,
     "metadata": {},
     "output_type": "execute_result"
    }
   ],
   "source": [
    "# 10. How many laptops have a discount price?\n",
    "laptops_with_discount = df[df['discount_price'] > 0].shape[0]\n",
    "laptops_with_discount"
   ]
  },
  {
   "cell_type": "code",
   "execution_count": 97,
   "id": "caabc245-26e6-4747-815c-4058840b9d87",
   "metadata": {},
   "outputs": [
    {
     "data": {
      "text/html": [
       "<div>\n",
       "<style scoped>\n",
       "    .dataframe tbody tr th:only-of-type {\n",
       "        vertical-align: middle;\n",
       "    }\n",
       "\n",
       "    .dataframe tbody tr th {\n",
       "        vertical-align: top;\n",
       "    }\n",
       "\n",
       "    .dataframe thead th {\n",
       "        text-align: right;\n",
       "    }\n",
       "</style>\n",
       "<table border=\"1\" class=\"dataframe\">\n",
       "  <thead>\n",
       "    <tr style=\"text-align: right;\">\n",
       "      <th></th>\n",
       "      <th>disk_space</th>\n",
       "      <th>old_price</th>\n",
       "    </tr>\n",
       "  </thead>\n",
       "  <tbody>\n",
       "    <tr>\n",
       "      <th>disk_space</th>\n",
       "      <td>1.000000</td>\n",
       "      <td>-0.274376</td>\n",
       "    </tr>\n",
       "    <tr>\n",
       "      <th>old_price</th>\n",
       "      <td>-0.274376</td>\n",
       "      <td>1.000000</td>\n",
       "    </tr>\n",
       "  </tbody>\n",
       "</table>\n",
       "</div>"
      ],
      "text/plain": [
       "            disk_space  old_price\n",
       "disk_space    1.000000  -0.274376\n",
       "old_price    -0.274376   1.000000"
      ]
     },
     "execution_count": 97,
     "metadata": {},
     "output_type": "execute_result"
    }
   ],
   "source": [
    "# 11. How is disk space related to the price?\n",
    "disk_space_vs_price = df[['disk_space', 'old_price']].corr()\n",
    "disk_space_vs_price"
   ]
  },
  {
   "cell_type": "code",
   "execution_count": 99,
   "id": "66ef3d7a-ffd5-4493-82d3-28c407472f3f",
   "metadata": {},
   "outputs": [
    {
     "data": {
      "text/html": [
       "<div>\n",
       "<style scoped>\n",
       "    .dataframe tbody tr th:only-of-type {\n",
       "        vertical-align: middle;\n",
       "    }\n",
       "\n",
       "    .dataframe tbody tr th {\n",
       "        vertical-align: top;\n",
       "    }\n",
       "\n",
       "    .dataframe thead th {\n",
       "        text-align: right;\n",
       "    }\n",
       "</style>\n",
       "<table border=\"1\" class=\"dataframe\">\n",
       "  <thead>\n",
       "    <tr style=\"text-align: right;\">\n",
       "      <th></th>\n",
       "      <th>display_size</th>\n",
       "      <th>old_price</th>\n",
       "    </tr>\n",
       "  </thead>\n",
       "  <tbody>\n",
       "    <tr>\n",
       "      <th>display_size</th>\n",
       "      <td>1.000000</td>\n",
       "      <td>-0.214365</td>\n",
       "    </tr>\n",
       "    <tr>\n",
       "      <th>old_price</th>\n",
       "      <td>-0.214365</td>\n",
       "      <td>1.000000</td>\n",
       "    </tr>\n",
       "  </tbody>\n",
       "</table>\n",
       "</div>"
      ],
      "text/plain": [
       "              display_size  old_price\n",
       "display_size      1.000000  -0.214365\n",
       "old_price        -0.214365   1.000000"
      ]
     },
     "execution_count": 99,
     "metadata": {},
     "output_type": "execute_result"
    }
   ],
   "source": [
    "# 12. How is display size related to price?\n",
    "display_size_vs_price = df[['display_size', 'old_price']].corr()\n",
    "display_size_vs_price"
   ]
  },
  {
   "cell_type": "code",
   "execution_count": 105,
   "id": "ac000ec5-9d8f-4ad3-8686-ee33f5ad21c3",
   "metadata": {},
   "outputs": [
    {
     "data": {
      "image/png": "[encoded data removed]",
      "text/plain": [
       "<Figure size 1000x600 with 1 Axes>"
      ]
     },
     "metadata": {},
     "output_type": "display_data"
    }
   ],
   "source": [
    "# Visualization to understand Laptop price distribution\n",
    "import matplotlib.pyplot as plt\n",
    "\n",
    "plt.figure(figsize=(10, 6))\n",
    "plt.hist(df['old_price'], bins=30, color='blue', edgecolor='black')\n",
    "plt.title('Distribution of Laptop Prices')\n",
    "plt.xlabel('Price')\n",
    "plt.ylabel('Frequency')\n",
    "plt.grid(axis='y')\n",
    "plt.show()"
   ]
  },
  {
   "cell_type": "code",
   "execution_count": 109,
   "id": "5d1783a2-0d23-4a78-918d-d1534fe3fb9b",
   "metadata": {},
   "outputs": [
    {
     "data": {
      "image/png": "[encoded data removed]",
      "text/plain": [
       "<Figure size 1200x800 with 1 Axes>"
      ]
     },
     "metadata": {},
     "output_type": "display_data"
    }
   ],
   "source": [
    "# Visualization to show Avg Price by Brand\n",
    "avg_price_by_brand = df.groupby('brand')['old_price'].mean().sort_values()\n",
    "plt.figure(figsize=(12, 8))\n",
    "plt.barh(avg_price_by_brand.index, avg_price_by_brand.values, color='lightcoral')\n",
    "plt.title('Average Laptop Price by Brand')\n",
    "plt.xlabel('Average Price')\n",
    "plt.ylabel('Brand')\n",
    "plt.show()"
   ]
  },
  {
   "cell_type": "code",
   "execution_count": 117,
   "id": "9899d6f7-6f59-4f18-b261-885d50a73a85",
   "metadata": {},
   "outputs": [
    {
     "data": {
      "image/png": "[encoded data removed]",
      "text/plain": [
       "<Figure size 1000x600 with 1 Axes>"
      ]
     },
     "metadata": {},
     "output_type": "display_data"
    }
   ],
   "source": [
    "# Relationship Between Display Size and Price\n",
    "plt.figure(figsize=(10, 6))\n",
    "plt.scatter(df['display_size'], df['old_price'], alpha=0.6, color='orange')\n",
    "plt.title('Relationship Between Display Size and Price')\n",
    "plt.xlabel('Display Size (inches)')\n",
    "plt.ylabel('Price')\n",
    "plt.grid()\n",
    "plt.show()"
   ]
  },
  {
   "cell_type": "code",
   "execution_count": 123,
   "id": "65ef4032-bc78-429e-bdfa-662e59fe6064",
   "metadata": {},
   "outputs": [
    {
     "data": {
      "image/png": "[encoded data removed]",
      "text/plain": [
       "<Figure size 1200x800 with 1 Axes>"
      ]
     },
     "metadata": {},
     "output_type": "display_data"
    }
   ],
   "source": [
    "# Avg Rating by Brands\n",
    "avg_ratings_by_brand = df.groupby('brand')['ratings_5max'].mean().sort_values()\n",
    "plt.figure(figsize=(12, 8))\n",
    "plt.barh(avg_ratings_by_brand.index, avg_ratings_by_brand.values, color='lightgreen')\n",
    "plt.title('Average Ratings by Laptop Brand')\n",
    "plt.xlabel('Average Ratings')\n",
    "plt.ylabel('Brand')\n",
    "plt.show()"
   ]
  },
  {
   "cell_type": "code",
   "execution_count": null,
   "id": "7feedca9-6333-4067-a8e2-1382538813a1",
   "metadata": {},
   "outputs": [],
   "source": []
  }
 ],
 "metadata": {
  "kernelspec": {
   "display_name": "Python 3 (ipykernel)",
   "language": "python",
   "name": "python3"
  },
  "language_info": {
   "codemirror_mode": {
    "name": "ipython",
    "version": 3
   },
   "file_extension": ".py",
   "mimetype": "text/x-python",
   "name": "python",
   "nbconvert_exporter": "python",
   "pygments_lexer": "ipython3",
   "version": "3.12.4"
  }
 },
 "nbformat": 4,
 "nbformat_minor": 5
}
